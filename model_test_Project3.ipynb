{
  "nbformat": 4,
  "nbformat_minor": 0,
  "metadata": {
    "colab": {
      "provenance": [],
      "include_colab_link": true
    },
    "kernelspec": {
      "name": "python3",
      "display_name": "Python 3"
    },
    "language_info": {
      "name": "python"
    }
  },
  "cells": [
    {
      "cell_type": "markdown",
      "metadata": {
        "id": "view-in-github",
        "colab_type": "text"
      },
      "source": [
        "<a href=\"https://colab.research.google.com/github/Dheerissara/data-science-bootcamp9/blob/main/model_test_Project3.ipynb\" target=\"_parent\"><img src=\"https://colab.research.google.com/assets/colab-badge.svg\" alt=\"Open In Colab\"/></a>"
      ]
    },
    {
      "cell_type": "code",
      "source": [
        "!pip install sklearn_crfsuite\n",
        "import joblib\n",
        "model = joblib.load(\"/content/model.joblib\")"
      ],
      "metadata": {
        "colab": {
          "base_uri": "https://localhost:8080/"
        },
        "id": "nnJZx2QG8Blr",
        "outputId": "6d2e82cd-658b-46b4-fe7c-77d362995ca9"
      },
      "execution_count": null,
      "outputs": [
        {
          "output_type": "stream",
          "name": "stdout",
          "text": [
            "Requirement already satisfied: sklearn_crfsuite in /usr/local/lib/python3.10/dist-packages (0.5.0)\n",
            "Requirement already satisfied: python-crfsuite>=0.9.7 in /usr/local/lib/python3.10/dist-packages (from sklearn_crfsuite) (0.9.11)\n",
            "Requirement already satisfied: scikit-learn>=0.24.0 in /usr/local/lib/python3.10/dist-packages (from sklearn_crfsuite) (1.5.2)\n",
            "Requirement already satisfied: tabulate>=0.4.2 in /usr/local/lib/python3.10/dist-packages (from sklearn_crfsuite) (0.9.0)\n",
            "Requirement already satisfied: tqdm>=2.0 in /usr/local/lib/python3.10/dist-packages (from sklearn_crfsuite) (4.66.5)\n",
            "Requirement already satisfied: numpy>=1.19.5 in /usr/local/lib/python3.10/dist-packages (from scikit-learn>=0.24.0->sklearn_crfsuite) (1.26.4)\n",
            "Requirement already satisfied: scipy>=1.6.0 in /usr/local/lib/python3.10/dist-packages (from scikit-learn>=0.24.0->sklearn_crfsuite) (1.13.1)\n",
            "Requirement already satisfied: joblib>=1.2.0 in /usr/local/lib/python3.10/dist-packages (from scikit-learn>=0.24.0->sklearn_crfsuite) (1.4.2)\n",
            "Requirement already satisfied: threadpoolctl>=3.1.0 in /usr/local/lib/python3.10/dist-packages (from scikit-learn>=0.24.0->sklearn_crfsuite) (3.5.0)\n"
          ]
        }
      ]
    },
    {
      "cell_type": "code",
      "source": [
        "stopwords = [\"ผู้\", \"ที่\", \"ซึ่ง\", \"อัน\"]\n",
        "\n",
        "def tokens_to_features(tokens, i):\n",
        "  word = tokens[i]\n",
        "\n",
        "  features = {\n",
        "    \"bias\": 1.0,\n",
        "    \"word.word\": word,\n",
        "    \"word[:3]\": word[:3],\n",
        "    \"word.isspace()\": word.isspace(),\n",
        "    \"word.is_stopword()\": word in stopwords,\n",
        "    \"word.isdigit()\": word.isdigit(),\n",
        "    \"word.islen5\": word.isdigit() and len(word) == 5\n",
        "  }\n",
        "\n",
        "  if i > 0:\n",
        "    prevword = tokens[i - 1]\n",
        "    features.update({\n",
        "      \"-1.word.prevword\": prevword,\n",
        "      \"-1.word.isspace()\": prevword.isspace(),\n",
        "      \"-1.word.is_stopword()\": prevword in stopwords,\n",
        "      \"-1.word.isdigit()\": prevword.isdigit(),\n",
        "    })\n",
        "  else:\n",
        "    features[\"BOS\"] = True\n",
        "\n",
        "  if i < len(tokens) - 1:\n",
        "    nextword = tokens[i + 1]\n",
        "    features.update({\n",
        "      \"+1.word.nextword\": nextword,\n",
        "      \"+1.word.isspace()\": nextword.isspace(),\n",
        "      \"+1.word.is_stopword()\": nextword in stopwords,\n",
        "      \"+1.word.isdigit()\": nextword.isdigit(),\n",
        "    })\n",
        "  else:\n",
        "    features[\"EOS\"] = True\n",
        "\n",
        "  return features\n",
        "\n",
        "def parse(text):\n",
        "  tokens = text.split()\n",
        "  features = [tokens_to_features(tokens, i) for i in range(len(tokens))]\n",
        "\n",
        "  print(model.predict([features])[0])"
      ],
      "metadata": {
        "id": "hwJ7efCu73ok"
      },
      "execution_count": null,
      "outputs": []
    },
    {
      "cell_type": "code",
      "source": [
        "parse(\"นายสมชาย เข็มกลัด 254 ถนน พญาไท แขวง วังใหม่ เขต ปทุมวัน กรุงเทพมหานคร 10330\")"
      ],
      "metadata": {
        "colab": {
          "base_uri": "https://localhost:8080/"
        },
        "id": "vr2mTO7L8HnB",
        "outputId": "b6977ff9-3db1-4868-fb90-c38f5ff224fe"
      },
      "execution_count": null,
      "outputs": [
        {
          "output_type": "stream",
          "name": "stdout",
          "text": [
            "['O' 'O' 'ADDR' 'ADDR' 'ADDR' 'ADDR' 'ADDR' 'ADDR' 'LOC' 'LOC' 'POST']\n"
          ]
        }
      ]
    },
    {
      "cell_type": "code",
      "source": [
        "parse(\"นายมงคล 123/4 ตำบล บ้านไกล อำเภอ เมือง จังหวัด ลพบุรี 15000\")"
      ],
      "metadata": {
        "colab": {
          "base_uri": "https://localhost:8080/"
        },
        "id": "sW-WcTgsNUuB",
        "outputId": "12a2b5d7-b762-4b03-d40e-8679aeafed00"
      },
      "execution_count": null,
      "outputs": [
        {
          "output_type": "stream",
          "name": "stdout",
          "text": [
            "['ADDR' 'ADDR' 'ADDR' 'ADDR' 'ADDR' 'ADDR' 'ADDR' 'ADDR' 'POST']\n"
          ]
        }
      ]
    }
  ]
}